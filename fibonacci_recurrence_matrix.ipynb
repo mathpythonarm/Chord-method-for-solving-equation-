{
 "cells": [
  {
   "attachments": {},
   "cell_type": "markdown",
   "id": "5a8ecb3a",
   "metadata": {},
   "source": [
    "Fibonacci Sequence\n",
    "$$ x_{0}=0 , x_{1}=1, x_{2}=1, x_{3}=2, x_{4}=3, x_{5}=5, x_{6}=8, ..., x_{n+1}=x_{n}+x_{n-1} $$\n",
    "$$ \\left\\{\\begin{matrix}\n",
    " x_{n+1}=x_{n}+x_{n-1}\\\\\n",
    "x_{n}=x_{n}\n",
    "\\end{matrix}\\right. $$\n",
    "$$ A=\\bigl(\\begin{smallmatrix}1 & 1 \\\\1 & 0 \\\\\\end{smallmatrix}\\bigr),  X_{n}=\\bigl(\\begin{smallmatrix}x_{n} \\\\ x_{n-1} \\end{smallmatrix}\\bigr),  X_{n+1}=\\bigl(\\begin{smallmatrix}x_{n+1} \\\\ x_{n} \\end{smallmatrix}\\bigr)\\Rightarrow X_{n+1}=AX_{n}$$\n",
    "$$ X_{n+1}=AX_{n}=A^{2}X_{n-1}=A^{3}X_{n-2}=...=A^{n}X_{1}=A^{n}\\bigl(\\begin{smallmatrix}1\\\\ 0\\end{smallmatrix}\\bigr) $$\n"
   ]
  },
  {
   "cell_type": "code",
   "execution_count": 7,
   "id": "9db53bb0",
   "metadata": {},
   "outputs": [
    {
     "data": {
      "text/latex": [
       "$\\displaystyle \\left[\\begin{matrix}1 & 1\\\\1 & 0\\end{matrix}\\right]$"
      ],
      "text/plain": [
       "Matrix([\n",
       "[1, 1],\n",
       "[1, 0]])"
      ]
     },
     "execution_count": 7,
     "metadata": {},
     "output_type": "execute_result"
    }
   ],
   "source": [
    "from sympy import *\n",
    "A = Matrix([[1, 1], [1, 0]])\n",
    "A"
   ]
  },
  {
   "cell_type": "code",
   "execution_count": 8,
   "id": "9cf2e12c",
   "metadata": {},
   "outputs": [
    {
     "data": {
      "text/latex": [
       "$\\displaystyle \\lambda^{2} - \\lambda - 1$"
      ],
      "text/plain": [
       "lamda**2 - lamda - 1"
      ]
     },
     "execution_count": 8,
     "metadata": {},
     "output_type": "execute_result"
    }
   ],
   "source": [
    "lamda = symbols('lamda')\n",
    "p = A.charpoly(lamda)\n",
    "factor(p.as_expr())"
   ]
  },
  {
   "cell_type": "code",
   "execution_count": 30,
   "id": "fbc453ac",
   "metadata": {},
   "outputs": [
    {
     "data": {
      "text/plain": [
       "{1/2 - sqrt(5)/2: 1, 1/2 + sqrt(5)/2: 1}"
      ]
     },
     "execution_count": 30,
     "metadata": {},
     "output_type": "execute_result"
    }
   ],
   "source": [
    "A.eigenvals()"
   ]
  },
  {
   "cell_type": "code",
   "execution_count": 31,
   "id": "1d53d105",
   "metadata": {},
   "outputs": [
    {
     "data": {
      "text/latex": [
       "$\\displaystyle \\sqrt{5}$"
      ],
      "text/plain": [
       "sqrt(5)"
      ]
     },
     "execution_count": 31,
     "metadata": {},
     "output_type": "execute_result"
    }
   ],
   "source": [
    "lambda1= list(A.eigenvals().keys())[0]\n",
    "lambda2= list(A.eigenvals().keys())[1]\n",
    "lambda2 - lambda1"
   ]
  },
  {
   "cell_type": "code",
   "execution_count": 10,
   "id": "a53174df",
   "metadata": {},
   "outputs": [
    {
     "data": {
      "text/latex": [
       "$\\displaystyle \\left[\\begin{matrix}\\frac{1}{2} - \\frac{\\sqrt{5}}{2} & 0\\\\0 & \\frac{1}{2} + \\frac{\\sqrt{5}}{2}\\end{matrix}\\right]$"
      ],
      "text/plain": [
       "Matrix([\n",
       "[1/2 - sqrt(5)/2,               0],\n",
       "[              0, 1/2 + sqrt(5)/2]])"
      ]
     },
     "execution_count": 10,
     "metadata": {},
     "output_type": "execute_result"
    }
   ],
   "source": [
    "P, D = A.diagonalize()\n",
    "D"
   ]
  },
  {
   "cell_type": "code",
   "execution_count": 11,
   "id": "d6732d59",
   "metadata": {},
   "outputs": [
    {
     "data": {
      "text/latex": [
       "$\\displaystyle \\left[\\begin{matrix}\\frac{1}{2} - \\frac{\\sqrt{5}}{2} & \\frac{1}{2} + \\frac{\\sqrt{5}}{2}\\\\1 & 1\\end{matrix}\\right]$"
      ],
      "text/plain": [
       "Matrix([\n",
       "[1/2 - sqrt(5)/2, 1/2 + sqrt(5)/2],\n",
       "[              1,               1]])"
      ]
     },
     "execution_count": 11,
     "metadata": {},
     "output_type": "execute_result"
    }
   ],
   "source": [
    "new_var = P\n",
    "new_var"
   ]
  },
  {
   "cell_type": "code",
   "execution_count": 12,
   "id": "9ceb4c2c",
   "metadata": {},
   "outputs": [
    {
     "data": {
      "text/latex": [
       "$\\displaystyle \\left[\\begin{matrix}\\frac{-1 + \\sqrt{5}}{-5 + \\sqrt{5}} & \\frac{1}{\\frac{5}{2} - \\frac{\\sqrt{5}}{2}}\\\\\\frac{\\sqrt{5}}{5} & \\frac{1}{2} - \\frac{\\sqrt{5}}{10}\\end{matrix}\\right]$"
      ],
      "text/plain": [
       "Matrix([\n",
       "[(-1 + sqrt(5))/(-5 + sqrt(5)), 1/(5/2 - sqrt(5)/2)],\n",
       "[                    sqrt(5)/5,    1/2 - sqrt(5)/10]])"
      ]
     },
     "execution_count": 12,
     "metadata": {},
     "output_type": "execute_result"
    }
   ],
   "source": [
    "new_var**(-1)"
   ]
  },
  {
   "attachments": {},
   "cell_type": "markdown",
   "id": "8a5b1cd0",
   "metadata": {},
   "source": [
    "$$ \\lambda_{1}= \\frac{1-\\sqrt{5}}{2}, \\lambda_{2}= \\frac{1+\\sqrt{5}}{2} $$\n",
    "$$ D=\\bigl(\\begin{smallmatrix}\\lambda_{1} & 0 \\\\0 & \\lambda_{2} \\\\\\end{smallmatrix}\\bigr) $$\n",
    "$$ P=\\bigl(\\begin{smallmatrix}\\lambda_{1} & \\lambda_{2}\\\\1 & 1 \\\\\\end{smallmatrix}\\bigr) $$\n",
    "$$ P^{-1}=\\frac{1}{\\lambda_{1}-\\lambda_{2}}\\bigl(\\begin{smallmatrix}1 & -\\lambda_{2}\\\\-1 & \\lambda_{1} \\\\\\end{smallmatrix}\\bigr) $$\n",
    "$$ A^{n} = PD^{n}P^{-1}$$\n",
    "$$ A^{n}=\\frac{1}{\\lambda_{1}-\\lambda_{2}}\\bigl(\\begin{smallmatrix}\\lambda_{1} & \\lambda_{2}\\\\1 & 1 \\\\\\end{smallmatrix}\\bigr)\\bigl(\\begin{smallmatrix}\\lambda_{1}^{n} & 0 \\\\0 & \\lambda_{2}^{n} \\\\\\end{smallmatrix}\\bigr)\\bigl(\\begin{smallmatrix}1 & -\\lambda_{2}\\\\-1 & \\lambda_{1} \\\\\\end{smallmatrix}\\bigr) $$\n",
    "$$ X^{n}=A^{n}X_{0}=\\frac{1}{\\lambda_{1}-\\lambda_{2}}\\bigl(\\begin{smallmatrix}\\lambda_{1}^{n+1} &\n",
    "\\lambda_{2}^{n+1}\\\\\\lambda_{1}^{n} & \\lambda_{2}^{n} \\\\\\end{smallmatrix}\\bigr)\\bigl(\\begin{smallmatrix}1 & -\\lambda_{2}\\\\-1 & \\lambda_{1} \\\\\\end{smallmatrix}\\bigr)\\begin{pmatrix}\n",
    "1 \\\\0\\end{pmatrix} $$\n",
    "$$ x_{n+1}= \\frac{1}{\\lambda_{2}-\\lambda_{1}}(\\lambda_{2}^{n+1}-\\lambda_{1}^{n+1}) $$\n",
    "$$ x_{n+1}= \\frac{1}{\\sqrt{5}}(\\lambda_{2}^{n+1}-\\lambda_{1}^{n+1}) $$\n",
    "$$ x_{n+1}= \\frac{1}{\\sqrt{5}}((\\frac{1+\\sqrt{5}}{2})^{n+1}-(\\frac{1-\\sqrt{5}}{2})^{n+1}) $$"
   ]
  },
  {
   "cell_type": "markdown",
   "id": "eb43da25",
   "metadata": {},
   "source": []
  }
 ],
 "metadata": {
  "kernelspec": {
   "display_name": "Python 3",
   "language": "python",
   "name": "python3"
  },
  "language_info": {
   "codemirror_mode": {
    "name": "ipython",
    "version": 3
   },
   "file_extension": ".py",
   "mimetype": "text/x-python",
   "name": "python",
   "nbconvert_exporter": "python",
   "pygments_lexer": "ipython3",
   "version": "3.10.10"
  },
  "vscode": {
   "interpreter": {
    "hash": "a0a2813c8478eba0035cfb173bcab9b8557004300f49cc0f5e0b882cc6f175be"
   }
  }
 },
 "nbformat": 4,
 "nbformat_minor": 5
}
